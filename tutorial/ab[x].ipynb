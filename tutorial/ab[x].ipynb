{
 "cells": [
  {
   "cell_type": "markdown",
   "metadata": {},
   "source": [
    "# ab[x] toolkit: tutorial\n",
    "The ab[x] toolkit contains three primary tools:\n",
    "  * **abstar**, which performs germline assignment and primary sequence annotation\n",
    "  * **abutils**, which provides programming primitives and commonly used functions like clustering and alignment\n",
    "  * **abcloud**, for launching, configuring and managing clusters of compute instances on Amazon's cloud platform (AWS)  \n",
    "  \n",
    "In this tutorial, we're going to go over the interactive use of abstar and abutils. You can also run abstar from the command line, which is definitely the preferred use when processing a large number of sequences (more than a few thousand). "
   ]
  },
  {
   "cell_type": "code",
   "execution_count": 1,
   "metadata": {},
   "outputs": [],
   "source": [
    "from pprint import pprint\n",
    "from abutils.core.sequence import Sequence\n",
    "%matplotlib inline"
   ]
  },
  {
   "cell_type": "markdown",
   "metadata": {},
   "source": [
    "## Section 1: File I/O\n",
    "\n",
    "One of the core primitives used in the ab[x] toolkit is the `Sequence` object. It's how we represent and work with antibody sequences. The ab[x] toolkit (via abutils) has a few utilities for reading files containing sequence data, resulting in lists of Sequence objects. For this tutorial, we're going to look at two different file types that we use commonly with abstar: FASTA and JSON. These two file types encode different types of information:\n",
    "  * **FASTA** files encode just the raw sequence data, and are formatted as follows:<br>\n",
    "    \\>Sequence name<br>\n",
    "    ATGCATGCATGCATGCATGCATGCATGCATGC\n",
    "    \n",
    "  * **JSON** files contain abstar annotated data, and are formatted as a series of key/value pairs (we'll look at data like that later)\n",
    "\n",
    "We're going to start by reading a FASTA file containing a few hundred HIV broadly neutralizing antibodies (bnAbs)."
   ]
  },
  {
   "cell_type": "markdown",
   "metadata": {},
   "source": [
    "#### Reading FASTA files\n",
    "Using the `read_fasta()` function, we simply provide a path to the FASTA file:"
   ]
  },
  {
   "cell_type": "code",
   "execution_count": 2,
   "metadata": {},
   "outputs": [],
   "source": [
    "from abutils.core.sequence import read_fasta\n",
    "fasta_seqs = read_fasta('./data/hiv_bnabs.fasta')"
   ]
  },
  {
   "cell_type": "code",
   "execution_count": 3,
   "metadata": {},
   "outputs": [
    {
     "name": "stdout",
     "output_type": "stream",
     "text": [
      "Number of FASTA sequences loaded: 459\n",
      "\n"
     ]
    }
   ],
   "source": [
    "print(f'Number of FASTA sequences loaded: {len(fasta_seqs)}\\n')"
   ]
  },
  {
   "cell_type": "markdown",
   "metadata": {},
   "source": [
    "  \n",
    "  \n",
    "Great, so now we have a list of several hundred Sequence objects. Sequence objects contain several useful properties and functions. For example, we can get the sequence ID using the `id` property:"
   ]
  },
  {
   "cell_type": "code",
   "execution_count": 4,
   "metadata": {},
   "outputs": [
    {
     "name": "stdout",
     "output_type": "stream",
     "text": [
      "10E8_JX645769_Homo_sapiens_anti-HIV_immunoglobulin_isolate_10E8_heavy_chain_variable_region_mRNA,_partial_cds\n",
      "\n"
     ]
    }
   ],
   "source": [
    "f = fasta_seqs[0]\n",
    "print(f'{f.id}\\n')"
   ]
  },
  {
   "cell_type": "markdown",
   "metadata": {},
   "source": [
    "  \n",
    "  \n",
    "We can access the actual sequence information using the `sequence` property:"
   ]
  },
  {
   "cell_type": "code",
   "execution_count": 5,
   "metadata": {},
   "outputs": [
    {
     "name": "stdout",
     "output_type": "stream",
     "text": [
      "GAGGTGCAGCTGGTGGAGTCTGGGGGAGGCTTGGTGAAGCCTGGAGGATCCCTTAGACTCTCATGTTCAGCCTCTGGTTTCGACTTCGATAACGCCTGGATGACTTGGGTCCGCCAGCCTCCAGGGAAGGGCCTCGAATGGGTTGGTCGTATTACGGGTCCAGGTGAAGGTTGGTCAGTGGACTATGCTGCACCCGTGGAAGGCAGATTTACCATCTCGAGACTCAATTCAATAAATTTCTTATATTTGGAGATGAACAATTTAAGAATGGAAGACTCAGGCCTTTACTTCTGTGCCCGCACGGGAAAATATTATGATTTTTGGAGTGGCTATCCGCCGGGAGAAGAATACTTCCAAGACTGGGGCCGGGGCACCCTGGTCACCGTCTCCTCA\n"
     ]
    }
   ],
   "source": [
    "print(f.sequence)"
   ]
  },
  {
   "cell_type": "markdown",
   "metadata": {},
   "source": [
    "<br>\n",
    "We can select a subbset of the sequence using normal slicing syntax:"
   ]
  },
  {
   "cell_type": "code",
   "execution_count": 6,
   "metadata": {},
   "outputs": [
    {
     "name": "stdout",
     "output_type": "stream",
     "text": [
      "GAGGTGCAGC\n"
     ]
    }
   ],
   "source": [
    "print(f[:10])"
   ]
  },
  {
   "cell_type": "markdown",
   "metadata": {},
   "source": [
    "#### Reading JSON files\n",
    "Because FASTA files contain unannotated sequence data, the amount of information contained in those Sequence objects is somewhat limited. If you have some data that has already been annotated by abstar, those sequences will be stored in JSON files and can be read in a similar fashion. Let's read one of those next:"
   ]
  },
  {
   "cell_type": "code",
   "execution_count": 7,
   "metadata": {},
   "outputs": [],
   "source": [
    "from abutils.core.sequence import read_json\n",
    "json_seqs = read_json('./data/hiv_bnabs.json')"
   ]
  },
  {
   "cell_type": "code",
   "execution_count": 8,
   "metadata": {},
   "outputs": [
    {
     "name": "stdout",
     "output_type": "stream",
     "text": [
      "Number of JSON sequences loaded: 459\n",
      "\n"
     ]
    }
   ],
   "source": [
    "print(f'Number of JSON sequences loaded: {len(fasta_seqs)}\\n')"
   ]
  },
  {
   "cell_type": "markdown",
   "metadata": {},
   "source": [
    "The major difference between the Sequence objects we created from reading a FASTA file and the ones we just created by reading a JSON file is that the JSON-derived sequences include abstar annotations. We can access those using a dictionary-style lookup:"
   ]
  },
  {
   "cell_type": "code",
   "execution_count": 9,
   "metadata": {},
   "outputs": [
    {
     "name": "stdout",
     "output_type": "stream",
     "text": [
      "ARTGKYYDFWSGYPPGEEYFQD\n",
      "\n"
     ]
    }
   ],
   "source": [
    "j = json_seqs[0]\n",
    "print(f\"{j['cdr3_aa']}\\n\")"
   ]
  },
  {
   "cell_type": "markdown",
   "metadata": {},
   "source": [
    "All of the annotations are stored in the `annotations` property, so you can see the entire set of annotations by calling that property:"
   ]
  },
  {
   "cell_type": "code",
   "execution_count": 10,
   "metadata": {},
   "outputs": [],
   "source": [
    "# pprint(j.annotations)"
   ]
  },
  {
   "cell_type": "markdown",
   "metadata": {},
   "source": [
    "#### Pair objects\n",
    "Because real antibodies are composed of paired heavy and light chains and not individual sequences, the `Sequence` object may not be the best way to work with antibody sequence data when you have paired information. Accordingly, ab[x] also provides an object to represent antibody pairs, called the `Pair` object. ab[x] includes the `assign_pairs` function to pair sequences according to their name (for example, with 10X Genomics, the first portion of each seqeunce name contains the droplet barcode, so grouping sequences by the first portion of the sequence name is equicvalent to grouping by droplet). <br><br>In our case, we want to use the portion of the sequence name that preceeds the first underscore character, which we can specify using the `delim` keyword argument:"
   ]
  },
  {
   "cell_type": "code",
   "execution_count": 11,
   "metadata": {},
   "outputs": [
    {
     "name": "stdout",
     "output_type": "stream",
     "text": [
      "238\n",
      "\n"
     ]
    }
   ],
   "source": [
    "from abutils.core.pair import assign_pairs\n",
    "\n",
    "pairs = assign_pairs(json_seqs, delim='_')\n",
    "print(f'{len(pairs)}\\n')"
   ]
  },
  {
   "cell_type": "markdown",
   "metadata": {},
   "source": [
    "`Pair` objects are relatively flexible -- it doesn't have to contain just a single heavy and a single light chain. If you've worked with 10X Genomics data, you quickly realize that some droplets contain multiple heavy or multiple light chain sequences. Some droplets are missing either heavy or light chains. the `Pair` object can handle all of these situations without a problem. As you can see, only 220 of our `Pair` objects actually contain both heavy and light chains:"
   ]
  },
  {
   "cell_type": "code",
   "execution_count": 12,
   "metadata": {},
   "outputs": [
    {
     "name": "stdout",
     "output_type": "stream",
     "text": [
      "220\n",
      "\n"
     ]
    }
   ],
   "source": [
    "real_pairs = [p for p in pairs if p.is_pair]\n",
    "print(f'{len(real_pairs)}\\n')"
   ]
  },
  {
   "cell_type": "markdown",
   "metadata": {},
   "source": [
    "## Section 2: The abstar API\n",
    "Running abstar though the API is very simple. All you need to do is pass sequences as arguments. The sequences we read from the FASTA file will work nicely. There are a few hundred of them so this will take a few seconds:"
   ]
  },
  {
   "cell_type": "code",
   "execution_count": 13,
   "metadata": {},
   "outputs": [],
   "source": [
    "import abstar\n",
    "annotated_seqs = abstar.run(*fasta_seqs)"
   ]
  },
  {
   "cell_type": "code",
   "execution_count": 14,
   "metadata": {},
   "outputs": [
    {
     "name": "stdout",
     "output_type": "stream",
     "text": [
      "459\n",
      "\n"
     ]
    }
   ],
   "source": [
    "print(f'{len(annotated_seqs)}\\n')"
   ]
  },
  {
   "cell_type": "markdown",
   "metadata": {},
   "source": [
    "#### Making summary plots of annotated sequence data\n",
    "Good. So we've essentially recreated the data we read from the JSON file using the abstar API. Now let's take a closer look at the sequence data. Abutils contains a few functions for generating summary plots of sequence data. Lets first look at the V, D and J use in heavy chain sequences. Note that for V and D genes, each gene is shown separately but the coloring is based on the gene family (for example, all IGHV1 genes are shown in read):"
   ]
  },
  {
   "cell_type": "code",
   "execution_count": 15,
   "metadata": {},
   "outputs": [
    {
     "data": {
      "image/png": "[encoded data removed]",
      "text/plain": [
       "<Figure size 720x288 with 1 Axes>"
      ]
     },
     "metadata": {},
     "output_type": "display_data"
    }
   ],
   "source": [
    "from abutils.plots.summary import germline_use_plot\n",
    "germline_use_plot(annotated_seqs, gene='V', chain='heavy')"
   ]
  },
  {
   "cell_type": "markdown",
   "metadata": {},
   "source": [
    "<br>\n",
    "<br>\n",
    "Now let's examine the CDR3 lengths. The sequences we're using here are HIV bnAbs, which are skewed toward very long HCDR3s (often >30 AA):"
   ]
  },
  {
   "cell_type": "code",
   "execution_count": 18,
   "metadata": {},
   "outputs": [
    {
     "data": {
      "image/png": "[encoded data removed]",
      "text/plain": [
       "<Figure size 648x288 with 1 Axes>"
      ]
     },
     "metadata": {},
     "output_type": "display_data"
    }
   ],
   "source": [
    "from abutils.plots.summary import cdr3_length_plot\n",
    "cdr3_length_plot(annotated_seqs, chain='heavy')"
   ]
  },
  {
   "cell_type": "code",
   "execution_count": null,
   "metadata": {},
   "outputs": [],
   "source": []
  },
  {
   "cell_type": "markdown",
   "metadata": {},
   "source": [
    "## Section 3: Clustering and alignment"
   ]
  },
  {
   "cell_type": "markdown",
   "metadata": {},
   "source": [
    "#### Clustering\n",
    "\n",
    "Let's start by clustering our sequences. CD-HIT is the default clustering tool used by abutils, although we're migrating to use [vsearch](https://github.com/torognes/vsearch) in the near future. All we need to do is pass our annotated sequences to the cluster function:"
   ]
  },
  {
   "cell_type": "code",
   "execution_count": 46,
   "metadata": {},
   "outputs": [],
   "source": [
    "from abutils.utils.cluster import cluster\n",
    "clusters = cluster(json_seqs, threshold=0.92, quiet=True)"
   ]
  },
  {
   "cell_type": "code",
   "execution_count": 49,
   "metadata": {},
   "outputs": [
    {
     "name": "stdout",
     "output_type": "stream",
     "text": [
      "282\n",
      "\n"
     ]
    }
   ],
   "source": [
    "print(f'{len(clusters)}\\n')"
   ]
  },
  {
   "cell_type": "markdown",
   "metadata": {},
   "source": [
    "So our set of 459 sequences was clustered into 282 clusters, when using 92% identity as the threshold. Now lets find the largest cluster and take a closer look at those sequences."
   ]
  },
  {
   "cell_type": "code",
   "execution_count": 51,
   "metadata": {},
   "outputs": [
    {
     "name": "stdout",
     "output_type": "stream",
     "text": [
      "15\n",
      "\n"
     ]
    }
   ],
   "source": [
    "largest_cluster = clusters.largest_cluster\n",
    "print(f'{largest_cluster.size}\\n')"
   ]
  },
  {
   "cell_type": "markdown",
   "metadata": {},
   "source": [
    "Let's take a look at which sequences make up the cluster:"
   ]
  },
  {
   "cell_type": "code",
   "execution_count": 52,
   "metadata": {},
   "outputs": [
    {
     "name": "stdout",
     "output_type": "stream",
     "text": [
      "PCT64-24F_MF565876_PCT64-24F-HC_anti-HIV_immunoglobulin_heavy_chain_variable_region\n",
      "PCT64-24G_MF565877_PCT64-24G-HC_anti-HIV_immunoglobulin_heavy_chain_variable_region\n",
      "PCT64-24H_MF565878_PCT64-24H-HC_anti-HIV_immunoglobulin_heavy_chain_variable_region\n",
      "PCT64-35B_MF565880_PCT64-35B-HC_anti-HIV_immunoglobulin_heavy_chain_variable_region\n",
      "PCT64-35C_MF565881_PCT64-35C-HC_anti-HIV_immunoglobulin_heavy_chain_variable_region\n",
      "PCT64-35D_MF565882_PCT64-35D-HC_anti-HIV_immunoglobulin_heavy_chain_variable_region\n",
      "PCT64-35E_MF565883_PCT64-35E-HC_anti-HIV_immunoglobulin_heavy_chain_variable_region\n",
      "PCT64-35F_MF565884_PCT64-35F-HC_anti-HIV_immunoglobulin_heavy_chain_variable_region\n",
      "PCT64-35G_MF565885_PCT64-35G-HC_anti-HIV_immunoglobulin_heavy_chain_variable_region\n",
      "PCT64-35H_MF565886_PCT64-35H-HC_anti-HIV_immunoglobulin_heavy_chain_variable_region\n",
      "PCT64-35I_MF565887_PCT64-35I-HC_anti-HIV_immunoglobulin_heavy_chain_variable_region\n",
      "PCT64-35K_MF565889_PCT64-35K-HC_anti-HIV_immunoglobulin_heavy_chain_variable_region\n",
      "PCT64-35N_MF565892_PCT64-35N-HC_anti-HIV_immunoglobulin_heavy_chain_variable_region\n",
      "PCT64-35O_MF565893_PCT64-35O-HC_anti-HIV_immunoglobulin_heavy_chain_variable_region\n",
      "PCT64-35S_MF565897_PCT64-35S-HC_anti-HIV_immunoglobulin_heavy_chain_variable_region\n"
     ]
    }
   ],
   "source": [
    "print('\\n'.join(largest_cluster.ids))"
   ]
  },
  {
   "cell_type": "markdown",
   "metadata": {},
   "source": [
    "#### Alignment\n",
    "Next, lets make an alignment of all heavy chain sequences in the PCT64 lineage. First we need to get those sequences from our `annotated_seqs` dataset:"
   ]
  },
  {
   "cell_type": "code",
   "execution_count": 53,
   "metadata": {},
   "outputs": [
    {
     "name": "stdout",
     "output_type": "stream",
     "text": [
      "23\n",
      "\n"
     ]
    }
   ],
   "source": [
    "pct64_seqs = [s for s in annotated_seqs if all(['PCT64' in s.id, s['chain'] == 'heavy'])]\n",
    "print(f'{len(pct64_seqs)}\\n')"
   ]
  },
  {
   "cell_type": "markdown",
   "metadata": {},
   "source": [
    "We're going to make a `dot_alignment`, which produces an alignment in which matches are shown as dots, with mismatches shown as the mismatched nucleotide (or amino acid). Before we start, however, let's truncate the names of our sequences, which are quite long. We only need the portion of the name that preceeds the first underscore:"
   ]
  },
  {
   "cell_type": "code",
   "execution_count": 54,
   "metadata": {},
   "outputs": [],
   "source": [
    "for s in pct64_seqs:\n",
    "    s.id = s.id.split('_')[0]\n",
    "    s['seq_id'] = s.id"
   ]
  },
  {
   "cell_type": "markdown",
   "metadata": {},
   "source": [
    "Dot alignments need to be made against a reference, and by default ab[x] will use the centroid of all of the sequences in the dot alignment. For our case, however, we'd like to use the least mutated sequence in the lineage, which is named `PCT64-18B`."
   ]
  },
  {
   "cell_type": "code",
   "execution_count": 55,
   "metadata": {},
   "outputs": [
    {
     "name": "stdout",
     "output_type": "stream",
     "text": [
      "PCT64-18B  EVQLVESGGGLVKPGGSLRLSCVASGFTFSDAWMTWVRQAPGKGLEWVGHMRPIPEGGAIDYAAPVKGRFTISRDDSKKTLYLQMNSLKIEDTALYYCMTGVETKDFWGDDYGDYYDHYFIDVWGKGTTVTVS\n",
      "PCT64-35S  ....................A..G.E....E......................TT....K....A.R.....A.....S..............GV........RG...S...SQH.NT.L.............\n",
      "PCT64-35H  .......................G.E....E..................D...T.....KN..........V......S...............V........RG...S...SQH.NT.L.............\n",
      "PCT64-35K  ............E..........G.E.A.........................T.....K...........V......S..............GV........AG...S.E.SQH.NT.L.............\n",
      "PCT64-35N  ............E..........G.E.A.........................T.....K...........V......S..............GV........AG...S.E.SQH.NT.L.............\n",
      "PCT64-35O  ............E..........G.E.A.........................T.....K...........V......S..............GV........AG...S.E.SQH.NT.L.............\n",
      "PCT64-24G  .......................G.E.A.........................T.....K...........V......R...............V.........G...S...SQH.NS.L.............\n",
      "PCT64-24H  .......................G.E.A.........................T.....K...........V......R...............V.........G...S...SQH.NS.L.............\n",
      "PCT64-35G  .......................G.E...........................T.....K...........V......R..............GV........KG...S...SQH.NT.L.............\n",
      "PCT64-35B  .......................G.E...........................T.....K...........V......R...............V........KG...S...SQH.NT.L.............\n",
      "PCT64-35C  .......................G.E...........................T.....K...........V......R...............V........KG...S...SQH.NT.L.............\n",
      "PCT64-35D  .......................G.E...........................T.....K...........V......R...............V........KG...S...SQH.NT.L.............\n",
      "PCT64-35E  .......................G.E...........................T.....K...........V......R...............V........KG...S...SQH.NT.L.............\n",
      "PCT64-35F  .......................G.E...........................T.....K...T.......V......R...............V........KG...S...SQH.NT.L.............\n",
      "PCT64-18D  .......................G...A.........................T.....K...........V......N...............V.........G...S.Y.AQ...P.L.............\n",
      "PCT64-18F  .......................G...A.........................T.....K...........V......N...............V.........G...S.Y.AQ...P.L.............\n",
      "PCT64-18C  .......................G...V.........................T.D...K..................N...............V.........G...S...AN...P.L.............\n",
      "PCT64-35I  .......................G.E...........................T....GKE..........V......N....E..........V........RGG..S.E.SQHW.P.L........M....\n",
      "PCT64-24F  .......................G.............................T....GK...........V......N....E..........V.........G...S.E.SQH..P.L.............\n",
      "PCT64-35M  .........A.......V....S....K......H.............A.V.TQAD..TTE.........I.......NI......G..T....K...N....WY...S.E.SQEETK..K.........I..\n",
      "PCT64-24A  .....Q......E.........AG..........H...............IKTNAD...AH.........I.......NM......G..T....M...N....SY...S...SQ.QYK..W............\n",
      "PCT64-24B  .....Q......E.........AG..........H...............IKTNAD...AH.........I.......NM......G..T....M...N....SY...S...SQ.QYK..W............\n",
      "PCT64-24E  .....Q......E.........AG..........H...............IKTNAD...AH.........I........M......G..T....M...N....SY...S...SQ.DYT.LS............\n"
     ]
    }
   ],
   "source": [
    "from abutils.utils.alignment import dot_alignment\n",
    "\n",
    "dot_aln = dot_alignment(pct64_seqs, seq_field='vdj_aa', root='PCT64-18B')\n",
    "print(dot_aln)"
   ]
  },
  {
   "cell_type": "code",
   "execution_count": null,
   "metadata": {},
   "outputs": [],
   "source": []
  },
  {
   "cell_type": "code",
   "execution_count": null,
   "metadata": {},
   "outputs": [],
   "source": []
  },
  {
   "cell_type": "code",
   "execution_count": null,
   "metadata": {},
   "outputs": [],
   "source": []
  }
 ],
 "metadata": {
  "kernelspec": {
   "display_name": "Python 3",
   "language": "python",
   "name": "python3"
  },
  "language_info": {
   "codemirror_mode": {
    "name": "ipython",
    "version": 3
   },
   "file_extension": ".py",
   "mimetype": "text/x-python",
   "name": "python",
   "nbconvert_exporter": "python",
   "pygments_lexer": "ipython3",
   "version": "3.7.4"
  }
 },
 "nbformat": 4,
 "nbformat_minor": 4
}
