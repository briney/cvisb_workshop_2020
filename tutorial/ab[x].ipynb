{
 "cells": [
  {
   "cell_type": "markdown",
   "metadata": {},
   "source": [
    "# ab[x] toolkit: tutorial\n",
    "The ab[x] toolkit contains three primary tools:\n",
    "  * **abstar**, which performs germline assignment and primary sequence annotation\n",
    "  * **abutils**, which provides programming primitives and commonly used functions like clustering and alignment\n",
    "  * **abcloud**, for launching, configuring and managing clusters of compute instances on Amazon's cloud platform (AWS)  \n",
    "  \n",
    "In this tutorial, we're going to go over the interactive use of abstar and abutils. You can also run abstar from the command line, which is definitely the preferred use when processing a large number of sequences (more than a few thousand). "
   ]
  },
  {
   "cell_type": "code",
   "execution_count": null,
   "metadata": {},
   "outputs": [],
   "source": [
    "from pprint import pprint\n",
    "from abutils.core.sequence import Sequence\n",
    "\n",
    "import warnings\n",
    "warnings.filterwarnings('ignore')\n",
    "\n",
    "%matplotlib inline"
   ]
  },
  {
   "cell_type": "markdown",
   "metadata": {},
   "source": [
    "# Section 1: File I/O\n",
    "\n",
    "One of the core primitives used in the ab[x] toolkit is the `Sequence` object. It's how we represent and work with antibody sequences. The ab[x] toolkit (via abutils) has a few utilities for reading files containing sequence data, resulting in lists of Sequence objects. For this tutorial, we're going to look at two different file types that we use commonly with abstar: FASTA and JSON. These two file types encode different types of information:\n",
    "  * **FASTA** files encode just the raw sequence data, and are formatted as follows:<br>\n",
    "    \\>Sequence name<br>\n",
    "    ATGCATGCATGCATGCATGCATGCATGCATGC\n",
    "    \n",
    "  * **JSON** files contain abstar annotated data, and are formatted as a series of key/value pairs (we'll look at data like that later)\n",
    "\n",
    "We're going to start by reading a FASTA file containing a few hundred HIV broadly neutralizing antibodies (bnAbs)."
   ]
  },
  {
   "cell_type": "markdown",
   "metadata": {},
   "source": [
    "### Reading FASTA files\n",
    "Using the `read_fasta()` function, we simply provide a path to the FASTA file:"
   ]
  },
  {
   "cell_type": "code",
   "execution_count": null,
   "metadata": {},
   "outputs": [],
   "source": [
    "from abutils.core.sequence import read_fasta\n",
    "fasta_seqs = read_fasta('../data/hiv_bnabs.fasta')"
   ]
  },
  {
   "cell_type": "code",
   "execution_count": null,
   "metadata": {},
   "outputs": [],
   "source": [
    "print(f'Number of FASTA sequences loaded: {len(fasta_seqs)}\\n')"
   ]
  },
  {
   "cell_type": "markdown",
   "metadata": {},
   "source": [
    "  \n",
    "  \n",
    "Great, so now we have a list of several hundred Sequence objects. Sequence objects contain several useful properties and functions. For example, we can get the sequence ID using the `id` property:"
   ]
  },
  {
   "cell_type": "code",
   "execution_count": null,
   "metadata": {},
   "outputs": [],
   "source": [
    "f = fasta_seqs[0]\n",
    "print(f'{f.id}\\n')"
   ]
  },
  {
   "cell_type": "markdown",
   "metadata": {},
   "source": [
    "  \n",
    "  \n",
    "We can access the actual sequence information using the `sequence` property:"
   ]
  },
  {
   "cell_type": "code",
   "execution_count": null,
   "metadata": {},
   "outputs": [],
   "source": [
    "print(f.sequence)"
   ]
  },
  {
   "cell_type": "markdown",
   "metadata": {},
   "source": [
    "<br>\n",
    "We can select a subbset of the sequence using normal slicing syntax:"
   ]
  },
  {
   "cell_type": "code",
   "execution_count": null,
   "metadata": {},
   "outputs": [],
   "source": [
    "print(f[:10])"
   ]
  },
  {
   "cell_type": "markdown",
   "metadata": {},
   "source": [
    "### Reading JSON files\n",
    "Because FASTA files contain unannotated sequence data, the amount of information contained in those Sequence objects is somewhat limited. If you have some data that has already been annotated by abstar, those sequences will be stored in JSON files and can be read in a similar fashion. Let's read one of those next:"
   ]
  },
  {
   "cell_type": "code",
   "execution_count": null,
   "metadata": {},
   "outputs": [],
   "source": [
    "from abutils.core.sequence import read_json\n",
    "json_seqs = read_json('../data/hiv_bnabs.json')"
   ]
  },
  {
   "cell_type": "code",
   "execution_count": null,
   "metadata": {},
   "outputs": [],
   "source": [
    "print(f'Number of JSON sequences loaded: {len(fasta_seqs)}\\n')"
   ]
  },
  {
   "cell_type": "markdown",
   "metadata": {},
   "source": [
    "The major difference between the Sequence objects we created from reading a FASTA file and the ones we just created by reading a JSON file is that the JSON-derived sequences include abstar annotations. We can access those using a dictionary-style lookup:"
   ]
  },
  {
   "cell_type": "code",
   "execution_count": null,
   "metadata": {},
   "outputs": [],
   "source": [
    "j = json_seqs[0]\n",
    "print(f\"{j['cdr3_aa']}\\n\")"
   ]
  },
  {
   "cell_type": "markdown",
   "metadata": {},
   "source": [
    "All of the annotations are stored in the `annotations` property, so you can see the entire set of annotations by calling that property:"
   ]
  },
  {
   "cell_type": "code",
   "execution_count": null,
   "metadata": {},
   "outputs": [],
   "source": [
    "# pprint(j.annotations)"
   ]
  },
  {
   "cell_type": "markdown",
   "metadata": {},
   "source": [
    "### Pair objects\n",
    "Because real antibodies are composed of paired heavy and light chains and not individual sequences, the `Sequence` object may not be the best way to work with antibody sequence data when you have paired information. Accordingly, ab[x] also provides an object to represent antibody pairs, called the `Pair` object. ab[x] includes the `assign_pairs` function to pair sequences according to their name (for example, with 10X Genomics, the first portion of each seqeunce name contains the droplet barcode, so grouping sequences by the first portion of the sequence name is equicvalent to grouping by droplet). <br><br>In our case, we want to use the portion of the sequence name that preceeds the first underscore character, which we can specify using the `delim` keyword argument:"
   ]
  },
  {
   "cell_type": "code",
   "execution_count": null,
   "metadata": {},
   "outputs": [],
   "source": [
    "from abutils.core.pair import assign_pairs\n",
    "\n",
    "pairs = assign_pairs(json_seqs, delim='_')\n",
    "print(f'{len(pairs)}\\n')"
   ]
  },
  {
   "cell_type": "markdown",
   "metadata": {},
   "source": [
    "`Pair` objects are relatively flexible -- it doesn't have to contain just a single heavy and a single light chain. If you've worked with 10X Genomics data, you quickly realize that some droplets contain multiple heavy or multiple light chain sequences. Some droplets are missing either heavy or light chains. the `Pair` object can handle all of these situations without a problem. As you can see, only 220 of our `Pair` objects actually contain both heavy and light chains:"
   ]
  },
  {
   "cell_type": "code",
   "execution_count": null,
   "metadata": {},
   "outputs": [],
   "source": [
    "real_pairs = [p for p in pairs if p.is_pair]\n",
    "print(f'{len(real_pairs)}\\n')"
   ]
  },
  {
   "cell_type": "markdown",
   "metadata": {},
   "source": [
    "# Section 2: The abstar API\n",
    "Running abstar though the API is very simple. All you need to do is pass sequences as arguments. The sequences we read from the FASTA file will work nicely. There are a few hundred of them so this will take a few seconds:"
   ]
  },
  {
   "cell_type": "code",
   "execution_count": null,
   "metadata": {},
   "outputs": [],
   "source": [
    "import abstar\n",
    "annotated_seqs = abstar.run(*fasta_seqs)"
   ]
  },
  {
   "cell_type": "code",
   "execution_count": null,
   "metadata": {},
   "outputs": [],
   "source": [
    "print(f'{len(annotated_seqs)}\\n')"
   ]
  },
  {
   "cell_type": "markdown",
   "metadata": {},
   "source": [
    "### Making summary plots of annotated sequence data\n",
    "Good. So we've essentially recreated the data we read from the JSON file using the abstar API. Now let's take a closer look at the sequence data. Abutils contains a few functions for generating summary plots of sequence data. Lets first look at the V, D and J use in heavy chain sequences. Note that for V and D genes, each gene is shown separately but the coloring is based on the gene family (for example, all IGHV1 genes are shown in read):"
   ]
  },
  {
   "cell_type": "code",
   "execution_count": null,
   "metadata": {},
   "outputs": [],
   "source": [
    "from abutils.plots.summary import germline_use_plot\n",
    "germline_use_plot(annotated_seqs, gene='V', chain='heavy')"
   ]
  },
  {
   "cell_type": "markdown",
   "metadata": {},
   "source": [
    "<br>\n",
    "<br>\n",
    "Now let's examine the CDR3 lengths. The sequences we're using here are HIV bnAbs, which are skewed toward very long HCDR3s (often >30 AA):"
   ]
  },
  {
   "cell_type": "code",
   "execution_count": null,
   "metadata": {},
   "outputs": [],
   "source": [
    "from abutils.plots.summary import cdr3_length_plot\n",
    "cdr3_length_plot(annotated_seqs, chain='heavy')"
   ]
  },
  {
   "cell_type": "code",
   "execution_count": null,
   "metadata": {},
   "outputs": [],
   "source": []
  },
  {
   "cell_type": "markdown",
   "metadata": {},
   "source": [
    "# Section 3: Clustering and alignment"
   ]
  },
  {
   "cell_type": "markdown",
   "metadata": {},
   "source": [
    "### Clustering\n",
    "\n",
    "Let's start by clustering our sequences. CD-HIT is the default clustering tool used by abutils, although we're migrating to use [vsearch](https://github.com/torognes/vsearch) in the near future. All we need to do is pass our annotated sequences to the cluster function:"
   ]
  },
  {
   "cell_type": "code",
   "execution_count": null,
   "metadata": {},
   "outputs": [],
   "source": [
    "from abutils.utils.cluster import cluster\n",
    "clusters = cluster(json_seqs, threshold=0.92, quiet=True)"
   ]
  },
  {
   "cell_type": "code",
   "execution_count": null,
   "metadata": {},
   "outputs": [],
   "source": [
    "print(f'{len(clusters)}\\n')"
   ]
  },
  {
   "cell_type": "markdown",
   "metadata": {},
   "source": [
    "So our set of 459 sequences was clustered into 282 clusters, when using 92% identity as the threshold. Now lets find the largest cluster and take a closer look at those sequences."
   ]
  },
  {
   "cell_type": "code",
   "execution_count": null,
   "metadata": {},
   "outputs": [],
   "source": [
    "largest_cluster = clusters.largest_cluster\n",
    "print(f'{largest_cluster.size}\\n')"
   ]
  },
  {
   "cell_type": "markdown",
   "metadata": {},
   "source": [
    "Let's take a look at which sequences make up the cluster:"
   ]
  },
  {
   "cell_type": "code",
   "execution_count": null,
   "metadata": {},
   "outputs": [],
   "source": [
    "print('\\n'.join(largest_cluster.ids))"
   ]
  },
  {
   "cell_type": "markdown",
   "metadata": {},
   "source": [
    "### Alignment\n",
    "Next, lets make an alignment of all heavy chain sequences in the PCT64 lineage. First we need to get those sequences from our `annotated_seqs` dataset:"
   ]
  },
  {
   "cell_type": "code",
   "execution_count": null,
   "metadata": {},
   "outputs": [],
   "source": [
    "pct64_seqs = [s for s in annotated_seqs if all(['PCT64' in s.id, s['chain'] == 'heavy'])]\n",
    "print(f'{len(pct64_seqs)}\\n')"
   ]
  },
  {
   "cell_type": "markdown",
   "metadata": {},
   "source": [
    "We're going to make a `dot_alignment`, which produces an alignment in which matches are shown as dots, with mismatches shown as the mismatched nucleotide (or amino acid). Before we start, however, let's truncate the names of our sequences, which are quite long. We only need the portion of the name that preceeds the first underscore:"
   ]
  },
  {
   "cell_type": "code",
   "execution_count": null,
   "metadata": {},
   "outputs": [],
   "source": [
    "for s in pct64_seqs:\n",
    "    s.id = s.id.split('_')[0]\n",
    "    s['seq_id'] = s.id"
   ]
  },
  {
   "cell_type": "markdown",
   "metadata": {},
   "source": [
    "Dot alignments need to be made against a reference, and by default ab[x] will use the centroid of all of the sequences in the dot alignment. For our case, however, we'd like to use the least mutated sequence in the lineage, which is named `PCT64-18B`."
   ]
  },
  {
   "cell_type": "code",
   "execution_count": null,
   "metadata": {},
   "outputs": [],
   "source": [
    "from abutils.utils.alignment import dot_alignment\n",
    "\n",
    "dot_aln = dot_alignment(pct64_seqs, seq_field='vdj_aa', root='PCT64-18B')\n",
    "print(dot_aln)"
   ]
  }
 ],
 "metadata": {
  "kernelspec": {
   "display_name": "Python 3",
   "language": "python",
   "name": "python3"
  },
  "language_info": {
   "codemirror_mode": {
    "name": "ipython",
    "version": 3
   },
   "file_extension": ".py",
   "mimetype": "text/x-python",
   "name": "python",
   "nbconvert_exporter": "python",
   "pygments_lexer": "ipython3",
   "version": "3.7.4"
  }
 },
 "nbformat": 4,
 "nbformat_minor": 4
}
