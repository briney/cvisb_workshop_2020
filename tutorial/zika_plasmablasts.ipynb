{
 "cells": [
  {
   "cell_type": "markdown",
   "metadata": {},
   "source": [
    "# Zika Plasmablasts: tutorial\n",
    "In this tutorial, we'll analyze sequencing data derived from single-cell PCR of plasmablasts from four subjects acutely infected with Zika virus (ZIKV). These data are published [here](https://immunology.sciencemag.org/content/2/14/eaan6809.long). In this notebook, we'll demonstrate some of the tools we use to analyze B cell receptore data and we'll generate several of the plots used in the paper."
   ]
  },
  {
   "cell_type": "code",
   "execution_count": null,
   "metadata": {},
   "outputs": [],
   "source": [
    "import warnings\n",
    "warnings.filterwarnings('ignore')\n",
    "\n",
    "from collections import Counter\n",
    "import pickle\n",
    "\n",
    "import numpy as np\n",
    "import pandas as pd\n",
    "\n",
    "import seaborn as sns\n",
    "import matplotlib as mpl\n",
    "import matplotlib.pyplot as plt\n",
    "from matplotlib.legend_handler import HandlerPatch\n",
    "\n",
    "from abutils.core.lineage import group_lineages, donut\n",
    "from abutils.utils.color import hex_to_rgb\n",
    "\n",
    "%matplotlib inline"
   ]
  },
  {
   "cell_type": "markdown",
   "metadata": {},
   "source": [
    "## Donors and colors\n",
    "\n",
    "There are four donors, named (very logically): Donors 1-4. All donors, except Donor 1, were seropositive for Dengue virus (DENV) prior to ZIKV infection. The pre-existing anti-DENV antibdies were expected to cross-react substantially with ZIKV. \n",
    "\n",
    "Also of note, the colors used for the donors were drawn from one of my favorite color palette sites: [Wes Anderson Palettes]/(https://wesandersonpalettes.tumblr.com/). If you'd prefer a more tradition (primary) color palette, uncomment the third line of the code block below."
   ]
  },
  {
   "cell_type": "code",
   "execution_count": null,
   "metadata": {},
   "outputs": [],
   "source": [
    "donors = ['donor_1', 'donor_2', 'donor_3', 'donor_4']\n",
    "colors = ['#004E64', '#5FAD56', '#3AAED8', '#F78154']\n",
    "# colors = sns.color_palette(n_colors=4)\n",
    "color_dict = {d: c for d, c in zip(donors, colors)}\n",
    "\n",
    "def rgba_colors(alpha):\n",
    "    clist_rgb = [[rgb / 256 for rgb in hex_to_rgb(c)] for c in colors]\n",
    "    return [rgb + [alpha] for rgb in clist_rgb]\n",
    "\n",
    "sns.palplot(colors)"
   ]
  },
  {
   "cell_type": "markdown",
   "metadata": {},
   "source": [
    "## Load sequencing data\n",
    "Slightly different from the previous notebook, this set sequencing data has been slightly pre-processed and saved to a single file using `pickle`. Sequences are already assigned to pairs, each pair has been populated with the `subject` attribute, and sequences have been assigned to clonal lineages. The first two lines open the binary `pickle` file and save the contents to a variable called `all_pairs`."
   ]
  },
  {
   "cell_type": "code",
   "execution_count": null,
   "metadata": {},
   "outputs": [],
   "source": [
    "with open('../data/zika_mAbs.pkl', 'rb') as f:\n",
    "    pairs = pickle.load(f)\n",
    "\n",
    "d1_pairs = [p for p in pairs if p.subject == 'donor_1']\n",
    "d2_pairs = [p for p in pairs if p.subject == 'donor_2']\n",
    "d3_pairs = [p for p in pairs if p.subject == 'donor_3']\n",
    "d4_pairs = [p for p in pairs if p.subject == 'donor_4']"
   ]
  },
  {
   "cell_type": "markdown",
   "metadata": {},
   "source": [
    "## Group sequences into lineages\n",
    "Building on the `Sequence` and `Pair` objects that we learned about earlier, ab[x] also contains a `Lineage` object, designed to represent antibody clonal lineages. Using the built-in `group_lineages` helper function, we can group `Pair` objects into lineages."
   ]
  },
  {
   "cell_type": "code",
   "execution_count": null,
   "metadata": {},
   "outputs": [],
   "source": [
    "d1_lineages = group_lineages(d1_pairs)\n",
    "d2_lineages = group_lineages(d2_pairs)\n",
    "d3_lineages = group_lineages(d3_pairs)\n",
    "d4_lineages = group_lineages(d4_pairs)"
   ]
  },
  {
   "cell_type": "markdown",
   "metadata": {},
   "source": [
    "<br>Let's pick a lineage from Donor 3 so that we can learn a bit more about the `Lineage` object"
   ]
  },
  {
   "cell_type": "code",
   "execution_count": null,
   "metadata": {},
   "outputs": [],
   "source": [
    "l = d3_lineages[6]"
   ]
  },
  {
   "cell_type": "markdown",
   "metadata": {},
   "source": [
    "<br>Lineage objects have a `name` attribute as well as a `size` attribute"
   ]
  },
  {
   "cell_type": "code",
   "execution_count": null,
   "metadata": {},
   "outputs": [],
   "source": [
    "print(l.name)"
   ]
  },
  {
   "cell_type": "code",
   "execution_count": null,
   "metadata": {},
   "outputs": [],
   "source": [
    "print(l.size())"
   ]
  },
  {
   "cell_type": "markdown",
   "metadata": {},
   "source": [
    "<br>If we pass the `pairs_only` keyword when checking the lineage size, it returns the number of paired heavy/light chains (excluding unpaired sequences)"
   ]
  },
  {
   "cell_type": "code",
   "execution_count": null,
   "metadata": {},
   "outputs": [],
   "source": [
    "print(l.size(pairs_only=True))"
   ]
  },
  {
   "cell_type": "markdown",
   "metadata": {},
   "source": [
    "<br>`Lineage` objects also have a built-in method for making dot alignments. This is slightly different from the dot alignment we made earlier, as calling the lineage-specific method aligns all sequences to the 'Unmutated Common Ancestor\" (or UCA)."
   ]
  },
  {
   "cell_type": "code",
   "execution_count": null,
   "metadata": {},
   "outputs": [],
   "source": [
    "print(l.dot_alignment(seq_field='vdj_aa', chain='heavy'))\n",
    "print('\\n')"
   ]
  },
  {
   "cell_type": "markdown",
   "metadata": {},
   "source": [
    "## Lineage \"donut\" plots\n",
    "\n",
    "\"Donut\" plots have long been used to visualize the distribution of lineages within a repertoire. Although pie-type plots have a number of deficiencies, we're not  trying to be precisely quantitative. The main purpose is to provide a easy way to visually compare the relative oligoclonality of one or more repertoires. In this case, it's obvious that the plasmablast repertoire of Donor 1 (the donor without existing serum reactivity to DENV) is less oligoclonal than the reperoires of Donors 2-4.\n",
    "\n",
    "To make plots for other donors, replace `d1_lineages` with the variable corresponding to lineages from a different donor, and change the donor name in the second line (`\"donor_1\"` in the code block below)."
   ]
  },
  {
   "cell_type": "code",
   "execution_count": null,
   "metadata": {},
   "outputs": [],
   "source": [
    "donut(d1_lineages,\n",
    "      monochrome_color=cdict['donor_1'], \n",
    "      shuffle_colors=True,\n",
    "      text_kws={'size': 40},\n",
    "      seed=12,\n",
    "#     figfile='./figures/donor1_donut.pdf'\n",
    "     )"
   ]
  },
  {
   "cell_type": "markdown",
   "metadata": {},
   "source": [
    "## Nucleotide mutation frequencies"
   ]
  },
  {
   "cell_type": "code",
   "execution_count": null,
   "metadata": {},
   "outputs": [],
   "source": [
    "def get_nt_mutations(pairs, chain, just_pairs=True):\n",
    "    if just_pairs:\n",
    "        pairs = [p for p in pairs if p.is_pair]\n",
    "    if chain == 'heavy':\n",
    "        heavies = [p for p in pairs if p.heavy is not None]\n",
    "        muts = [{'muts': s.heavy['var_muts_nt']['num'],\n",
    "                 'donor': s.subject.replace('donor_', ''),\n",
    "                 'color': color_dict[s.subject]} for s in heavies]\n",
    "    else:\n",
    "        lights = [p for p in pairs if p is not None]\n",
    "        muts = [{'muts': s.light['var_muts_nt']['num'],\n",
    "                 'donor': s.subject.replace('donor_', ''),\n",
    "                 'color': color_dict[s.subject]} for s in lights]\n",
    "    return pd.DataFrame(muts)\n",
    "\n",
    "\n",
    "def mutation_violinplot(df, ylabel, figfile=None):\n",
    "    sns.set_style('whitegrid')\n",
    "    plt.figure(figsize=(5, 3.5))\n",
    "\n",
    "    ax = sns.violinplot(x='donor', y='muts', palette=colors, data=mut_df,\n",
    "                        cut=0, linewidth=1.5, saturation=1)\n",
    "\n",
    "    # make the plot borders visible and black\n",
    "    for position in ['right', 'left', 'top', 'bottom']:\n",
    "            ax.spines[position].set_visible(True)\n",
    "            ax.spines[position].set_color('k')\n",
    "\n",
    "    # set axis limits\n",
    "    ax.set_ylim([0, 50])\n",
    "\n",
    "    # adjust tick and axis labels\n",
    "    ax.tick_params(axis='y', labelsize=12)\n",
    "    ax.tick_params(axis='x', labelsize=14)\n",
    "    plt.ylabel(ylabel, size=14)\n",
    "    plt.xlabel('Donor', size=14)\n",
    "    \n",
    "    if figfile is None:\n",
    "        plt.show()\n",
    "    else:\n",
    "        plt.tight_layout()\n",
    "        plt.savefig(figfile)"
   ]
  },
  {
   "cell_type": "code",
   "execution_count": null,
   "metadata": {},
   "outputs": [],
   "source": [
    "mut_df = get_nt_mutations(pairs, 'heavy')\n",
    "mutation_violinplot(mut_df,\n",
    "                    'Heavy chain NT mutations',\n",
    "#                     figfile='./figures/ZIKV_nt-mutations_heavy.pdf'\n",
    "                   )"
   ]
  },
  {
   "cell_type": "code",
   "execution_count": null,
   "metadata": {},
   "outputs": [],
   "source": [
    "mut_df = get_nt_mutations(pairs, 'light')\n",
    "mutation_violinplot(mut_df,\n",
    "                    'Light chain NT mutations',\n",
    "#                     figfile='./figures/ZIKV_nt-mutations_light.pdf'\n",
    "                   )"
   ]
  },
  {
   "cell_type": "code",
   "execution_count": null,
   "metadata": {},
   "outputs": [],
   "source": []
  },
  {
   "cell_type": "markdown",
   "metadata": {},
   "source": [
    "## Mutation bubbleplots"
   ]
  },
  {
   "cell_type": "code",
   "execution_count": null,
   "metadata": {},
   "outputs": [],
   "source": [
    "def mutation_bubbleplot(lineages, figfile=None):\n",
    "    # read mutation data\n",
    "    xs = []\n",
    "    ys = []\n",
    "    cs = []\n",
    "    areas = []\n",
    "    for l in lineages:\n",
    "        if len(l.heavies) == 1:\n",
    "            continue\n",
    "        xs.append(min([100. - p.heavy['nt_identity']['v'] for p in l.heavies]))\n",
    "        ys.append(max([100. - p.heavy['nt_identity']['v'] for p in l.heavies]))\n",
    "        cs.append(color_dict[l.heavies[0].subject])\n",
    "        areas.append(45 * len(l.heavies))\n",
    "    \n",
    "    sns.set_style('white')\n",
    "    plt.figure(figsize=(6, 6))\n",
    "    \n",
    "    # plot the diagonal reference line\n",
    "    plt.plot((0, 16), (0, 16), '--', c='k', linewidth=1, alpha=0.7)\n",
    "    \n",
    "    # plot the bubbles\n",
    "    outline = plt.scatter(xs, ys, c='w', s=areas, linewidths=1, edgecolor=cs)\n",
    "    outline.set_alpha(0.75)\n",
    "    fill = plt.scatter(xs, ys, c=cs, s=areas)\n",
    "    fill.set_alpha(0.3)\n",
    "\n",
    "    # style the plot\n",
    "    ax = plt.gca()\n",
    "    ax.set_ylim(0, 16)\n",
    "    ax.set_xlim(0, 16)\n",
    "    ax.tick_params(axis='y', labelsize=12)\n",
    "    ax.tick_params(axis='x', labelsize=12)\n",
    "    plt.ylabel('Maximum HC mutation (% nucleotide)', fontsize=14)\n",
    "    plt.xlabel('Minimum HC mutation (% nucleotide)', fontsize=14)\n",
    "\n",
    "    # build the legend\n",
    "    class HandlerEllipse(HandlerPatch):\n",
    "\n",
    "        def create_artists(self, legend, orig_handle,\n",
    "                           xdescent, ydescent, width, height, fontsize, trans):\n",
    "            center = 0.5 * width - 0.5 * xdescent, 0.5 * height - 0.5 * ydescent\n",
    "            p = mpl.patches.Circle(xy=center)\n",
    "            self.update_prop(p, orig_handle, legend)\n",
    "            p.set_transform(trans)\n",
    "            return [p]\n",
    "    patches = []\n",
    "    for d, c, rgba in zip(donors, rgba_colors(0.75), rgba_colors(0.35)):\n",
    "        d = d.replace('donor_', 'Donor ')\n",
    "        patch = mpl.patches.Circle((-0.5, -0.5), 0.1,\n",
    "                                   facecolor=rgba,\n",
    "                                   edgecolor=c,\n",
    "                                   linewidth=1)\n",
    "        plt.gca().add_patch(patch)\n",
    "        patches.append(patch)\n",
    "    plt.legend(patches, [d.replace('donor_', 'Donor ') for d in donors],\n",
    "               handler_map={mpl.patches.Circle: HandlerEllipse()},\n",
    "               fontsize=12,\n",
    "               frameon=False,\n",
    "               loc='lower right')\n",
    "    \n",
    "    # save or show\n",
    "    if figfile is None:\n",
    "        plt.show()\n",
    "    else:\n",
    "        plt.tight_layout()\n",
    "        plt.savefig(figfile)"
   ]
  },
  {
   "cell_type": "code",
   "execution_count": null,
   "metadata": {},
   "outputs": [],
   "source": [
    "all_lineages = d1_lineages + d2_lineages + d3_lineages + d4_lineages\n",
    "mutation_bubbleplot(all_lineages,\n",
    "#                     figfile='./figures/mutation_bubbleplot.pdf'\n",
    "                   )"
   ]
  },
  {
   "cell_type": "code",
   "execution_count": null,
   "metadata": {},
   "outputs": [],
   "source": []
  }
 ],
 "metadata": {
  "kernelspec": {
   "display_name": "Python 3",
   "language": "python",
   "name": "python3"
  },
  "language_info": {
   "codemirror_mode": {
    "name": "ipython",
    "version": 3
   },
   "file_extension": ".py",
   "mimetype": "text/x-python",
   "name": "python",
   "nbconvert_exporter": "python",
   "pygments_lexer": "ipython3",
   "version": "3.7.4"
  }
 },
 "nbformat": 4,
 "nbformat_minor": 4
}
